{
  "nbformat": 4,
  "nbformat_minor": 0,
  "metadata": {
    "colab": {
      "name": "Reference_data_brief.ipynb",
      "private_outputs": true,
      "provenance": [],
      "collapsed_sections": [],
      "mount_file_id": "1o_rWHd6w1wHnKdXj4gsgOvGFbVribwI-",
      "authorship_tag": "ABX9TyNjKenHlYLFMbALelJuHg8m",
      "include_colab_link": true
    },
    "kernelspec": {
      "name": "python3",
      "display_name": "Python 3"
    },
    "language_info": {
      "name": "python"
    }
  },
  "cells": [
    {
      "cell_type": "markdown",
      "metadata": {
        "id": "view-in-github",
        "colab_type": "text"
      },
      "source": [
        "<a href=\"https://colab.research.google.com/github/pyDesi/databrief/blob/main/Reference_data_brief.ipynb\" target=\"_parent\"><img src=\"https://colab.research.google.com/assets/colab-badge.svg\" alt=\"Open In Colab\"/></a>"
      ]
    },
    {
      "cell_type": "markdown",
      "metadata": {
        "id": "3EWpl6OdbGna"
      },
      "source": [
        "# Python Reference Notebook For Google Colab For MPH Data Brief Data Collection, being shared for Replicability, 8/17/2021"
      ]
    },
    {
      "cell_type": "code",
      "metadata": {
        "id": "eiWegMImBfJm"
      },
      "source": [
        "\n",
        "!pip install censusdata\n",
        "import pandas as pd\n",
        "import censusdata\n",
        "\n",
        "\n",
        "states = censusdata.geographies(censusdata.censusgeo([('state', '*')]), 'acs5', 2019) \n",
        "print(states)\n",
        "print(states['Pennsylvania']) #==>gives me the state code of 42\n",
        "counties = censusdata.geographies(censusdata.censusgeo([('state', '42'), ('county', '*')]), 'acs5', 2019)\n",
        "print(counties)\n",
        "\n",
        "data = censusdata.download('acs5', 2019,\n",
        "           censusdata.censusgeo([('state', '42'),\n",
        "                                 ('county', '*')\n",
        "                                 ]),\n",
        "          ['B11012_001E','B01003_001E','B15003_017E','B15003_022E','C02003_003E','C02003_004E','C02003_005E','C02003_006E','C02003_007E','B28011_004E','B28008_004E','B19013_001E'])\n",
        "\n",
        "column_names=['county_hh_count','total_population','high_school','bachelors','white','african american','American Indian/Alaskan Natives','Asian','Native Hawaiian/Pacific Islanders','computer in hh with broadband','per capita income 12 mo (2019adj$)','median hh income 12 mo (2019adj$)']\n",
        "data.columns=column_names\n"
      ],
      "execution_count": null,
      "outputs": []
    },
    {
      "cell_type": "code",
      "metadata": {
        "id": "KZJdxzyMM7c9"
      },
      "source": [
        "#Check and Make sure that the 67 Counties of the State of Pennsylvania are infact in the gleaned Dataset\n",
        "counties.keys()\n",
        "data['counties']=counties.keys()\n",
        "data['counties'] #Check Lngth of column given at the end of the readout, should be 67"
      ],
      "execution_count": null,
      "outputs": []
    },
    {
      "cell_type": "markdown",
      "metadata": {
        "id": "GOaaCCg3IX82"
      },
      "source": [
        ""
      ]
    },
    {
      "cell_type": "code",
      "metadata": {
        "id": "JiBSFjlocT_M"
      },
      "source": [
        "#Computationally Derived Columns for the Dataset data\n",
        "data['percent_households_with_bb']=(data['computer in hh with broadband'])/(data['county_hh_count'])*100\n",
        "data['percent_pop_high_sch']=(data['high_school'])/(data['total_population'])*100\n",
        "data['percent_pop_bachelors']=(data['bachelors'])/(data['total_population'])*100\n",
        "data\n",
        "#('C02003_003E', 'DETAILED RACE', 'Estimate!!Total:!!Population of one race:!!White')\n",
        "#('C02003_004E', 'DETAILED RACE', 'Estimate!!Total:!!Population of one race:!!Black or African American')\n",
        "#('C02003_005E', 'DETAILED RACE', 'Estimate!!Total:!!Population of one race:!!American Indian and Alaska Native')\n",
        "#('C02003_006E', 'DETAILED RACE', 'Estimate!!Total:!!Population of one race:!!Asian')\n",
        "#('C02003_007E', 'DETAILED RACE', 'Estimate!!Total:!!Population of one race:!!Native Hawaiian and Other Pacific Islander')\n"
      ],
      "execution_count": null,
      "outputs": []
    },
    {
      "cell_type": "code",
      "metadata": {
        "id": "5AmddTrUL-HU"
      },
      "source": [
        "#Getting vaccination data for all counties of pennsylvania, obtained 13th of August 2021 from the State of Pennsylvania COVID-19 Dashboard\n",
        "#which is located at COVID-19 Vaccine Dashboard at https://www.health.pa.gov/topics/disease/coronavirus/Pages/Cases.aspx from where data was downloaded\n",
        "vax_data=pd.read_csv('/content/drive/MyDrive/data_brief_files/COVID-19_Vaccinations_by_Residence_Current_County_Health.csv')\n",
        "vax_data['County Name']=vax_data['County Name']+' County, Pennsylvania'\n",
        "vax_data.rename(columns={'County Name':'counties'},inplace=True)\n",
        "vax_data"
      ],
      "execution_count": null,
      "outputs": []
    },
    {
      "cell_type": "code",
      "metadata": {
        "id": "eMMUXxGGxiUk"
      },
      "source": [
        "#Now merging data and vax_data becaue I want to consolidate all data SED's and the outcomes (full/prtial and total vaccinations) per county in one file\n",
        "pd.set_option('display.max_rows', None)\n",
        "pd.set_option('display.max_columns', None)\n",
        "pd.set_option('display.width', None)\n",
        "pd.set_option('display.max_colwidth', -1)\n",
        "merge_data=pd.merge(data,vax_data,how=\"inner\",on='counties') #an inner join to merge vaccination data with the SED's\n",
        "merge_data.loc[merge_data['counties']=='Somerset County, Pennsylvania']  #Just to check whether the merge went correctly by verifying manually"
      ],
      "execution_count": null,
      "outputs": []
    },
    {
      "cell_type": "code",
      "metadata": {
        "id": "TCVlIaN12RxC"
      },
      "source": [
        "#Just For manual confirmation Of the above merge\n",
        "vax_data.loc[vax_data.counties == 'Somerset County, Pennsylvania']"
      ],
      "execution_count": null,
      "outputs": []
    },
    {
      "cell_type": "code",
      "metadata": {
        "id": "Xlo2qix86fzD"
      },
      "source": [
        "sorted_merge=merge_data.sort_values(by='County Population',ascending=False)  #Sorting merged data from above in descending order  \n",
        "#some tweaks to see sorted_merge with all the columns and rows\n",
        "pd.set_option('display.max_rows', None)\n",
        "pd.set_option('display.max_columns', None)\n",
        "pd.set_option('display.width', None)\n",
        "pd.set_option('display.max_colwidth', -1)\n",
        "sorted_merge\n",
        "#To make for clearer data representation, I chopped it down to 40 rows in descending order\n",
        "sorted_merge_top_40=sorted_merge.head(40)\n",
        "sorted_merge_top_40\n"
      ],
      "execution_count": null,
      "outputs": []
    },
    {
      "cell_type": "code",
      "metadata": {
        "id": "K4E3pN3-566Z"
      },
      "source": [
        "data.to_csv('PA_county_Level_Edu_Race_Income_Broadband.csv') #initial SED\n",
        "sorted_merge['fully vaccinated percentage']=sorted_merge['Fully Covered'] / sorted_merge['County Population'] *100\n",
        "sorted_merge['partially vaccinated percentage']=sorted_merge['Partially Covered'] / sorted_merge['County Population'] *100\n",
        "sorted_merge.to_csv('/content/drive/MyDrive/data_brief_files/merged_SED_vax.csv') #Merged SED Data with Vaccination Data"
      ],
      "execution_count": null,
      "outputs": []
    },
    {
      "cell_type": "markdown",
      "metadata": {
        "id": "DNmyRyERawbg"
      },
      "source": [
        "## END OF DATA COLLECTION... BELOW IS GRAPHING SCRATCH PAD ,PLEASE IGNORE"
      ]
    },
    {
      "cell_type": "code",
      "metadata": {
        "id": "HEZeYGE9X5mh"
      },
      "source": [
        "sorted_merge"
      ],
      "execution_count": null,
      "outputs": []
    },
    {
      "cell_type": "code",
      "metadata": {
        "id": "i9Kxy2gEtTho"
      },
      "source": [
        "new_indices=[]\n",
        "county_names=[]\n",
        "for index in data.index.to_list():\n",
        "  new_index=index.geo[0][1] + index.geo[1][1]\n",
        "  print(new_index)\n",
        "  new_indices.append(new_index)\n",
        "  county_name = index.name.split(',')[0]\n",
        "  county_names.append(county_name)\n",
        "\n",
        "data.index = new_indices\n",
        "data['county_name'] = county_names\n",
        "\n",
        "data\n",
        "\n"
      ],
      "execution_count": null,
      "outputs": []
    },
    {
      "cell_type": "code",
      "metadata": {
        "id": "TG93dVqYr15R"
      },
      "source": [
        "data.index"
      ],
      "execution_count": null,
      "outputs": []
    },
    {
      "cell_type": "code",
      "metadata": {
        "id": "pIgM_lMfvqMp"
      },
      "source": [
        "# import necessary libraries\n",
        "!pip install geopandas\n",
        "#!pip install shapefile\n",
        "!pip install plotly-geo\n",
        "!pip install pyshp \n",
        "import geopandas\n",
        "import shapely\n",
        "#import shapefile\n",
        "import plotly\n",
        "\n",
        "#import plotly-geo\n",
        "from plotly.figure_factory._county_choropleth import create_choropleth\n",
        "import xlrd\n",
        "# Check your version\n",
        "#print(plotly.__version__, geopandas.__version__,shapely.__version__,shapefile.__version__)\n",
        "\n",
        "\n",
        "import geopandas\n",
        "import shapely\n",
        "#import shapefile\n",
        "import plotly\n",
        "#import plotly.figure_factory as ff\n",
        "#fig = create_choropleth(fips=data.index, scope=['Pennsylvania'],values=data['african american'], title='PA Counties by High school education', legend_title='% high school')\n",
        "fig=create_choropleth(fips=data.index.tolist(),scope=['Pennsylvania'],values=data['percent_households_with_bb'].tolist(),title='PA Counties by percentage Households with Broadband',legend_title='% households with broadband')\n",
        "fig.layout.template = None\n",
        "fig.show()\n"
      ],
      "execution_count": null,
      "outputs": []
    },
    {
      "cell_type": "code",
      "metadata": {
        "id": "MdPfn8vVPRHW"
      },
      "source": [
        "\n",
        "fig=create_choropleth(fips=data.index.tolist(),scope=['Pennsylvania'],values=data['percent_households_with_bb'].tolist(),title='PA Counties by percentage Households with Broadband',legend_title='% households with broadband')\n",
        "fig.layout.template = 'none'\n",
        "fig.update_layout(legend = dict(font = dict(family = \"Courier\", size = 5, color = \"black\")))\n",
        "fig.show()\n"
      ],
      "execution_count": null,
      "outputs": []
    },
    {
      "cell_type": "code",
      "metadata": {
        "id": "7Do-2Wfe1qg2"
      },
      "source": [
        "import plotly.express as px\n",
        "  \n",
        "df = px.data.iris()\n",
        "  \n",
        "fig = px.scatter(data, x=\"counties\", y=\"percent_households_with_bb\",\n",
        "                 labels={\"percent_households_with_bb\": \"percent households with broadband\"},\n",
        "                 size='percent_households_with_bb', color_continuous_scale=px.colors.sequential.algae_r)\n",
        "  \n",
        "fig.show()"
      ],
      "execution_count": null,
      "outputs": []
    },
    {
      "cell_type": "code",
      "metadata": {
        "id": "JJrkv881rIpb"
      },
      "source": [
        "import plotly.express as px\n",
        "import numpy as np\n",
        "  \n",
        "#df = px.data.iris()\n",
        "  \n",
        "#fig = px.scatter(data, x=\"counties\", y=\"percent_households_with_bb\",\n",
        "                # color=\"counties\", labels={\"percent_households_with_bb\": \"<b>percent households with broadband</b>\",\"counties\":\"<b>Pennsylvania Counties</b>\"},\n",
        "                # size='percent_households_with_bb',title=\"<b>Percentage Housholds with Broadband Access in Each County of Pennsylvania</b>\",\n",
        "                # width=2000, height=615,template = 'plotly_white')\n",
        "\n",
        "sorted2_merge_top_40=sorted_merge_top_40.sort_values(by='County Population',ascending=True,inplace=True)\n",
        "\n",
        "\n",
        "fig = px.line(sorted2_merge_top_40, x=sorted2_merge_top_40.Counties, y=sorted2_merge_top_40.percent_households_with_bb)\n",
        "\n",
        "\n",
        "fig.update_layout(title_text='<b>2019 US Census based Percentage Housholds with Broadband Access in Each County of Pennsylvania</b>', title_x=0.5)\n",
        "fig.update_layout(showlegend=False)\n",
        "fig.update_yaxes(tickfont_family=\"Arial Black\")\n",
        "\n",
        "#fig.update_xaxes(tickfont_family=\"Arial Black\")\n",
        "\n",
        "\n",
        "fig.show()"
      ],
      "execution_count": null,
      "outputs": []
    }
  ]
}